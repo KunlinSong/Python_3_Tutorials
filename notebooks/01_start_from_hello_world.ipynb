{
 "cells": [
  {
   "cell_type": "markdown",
   "metadata": {},
   "source": [
    "# 从 Hello World 开始\n",
    "\n",
    "我想 Hello World 可能是编程领域最广为人知的一个程序。对于几乎所有的程序员而言，学习一门新的语言都是从 Hello World 开始的。\n",
    "\n",
    "在这里，我们也将从 Hello World 开始，运行我们的第一个 Python 程序。 \n",
    "\n",
    "对于 Python，Hello World 程序非常简单，只需要一行代码："
   ]
  },
  {
   "cell_type": "code",
   "execution_count": 1,
   "metadata": {},
   "outputs": [
    {
     "name": "stdout",
     "output_type": "stream",
     "text": [
      "hello world\n"
     ]
    }
   ],
   "source": [
    "print(\"hello world\")"
   ]
  },
  {
   "cell_type": "markdown",
   "metadata": {},
   "source": [
    "很棒！你已经成功运行了一个 Python 程序。\n",
    "\n",
    "你现在是在Jupyter Notebook中运行 Python 代码。实际上，这行代码你也可以尝试复制到命令行中执行；或者写在一个 Python 脚本中（.py文件），再运行脚本。它们都能起到一致的作用，即：打印（`print`）一个内容为`hello world`的字符串。\n"
   ]
  }
 ],
 "metadata": {
  "kernelspec": {
   "display_name": "general_env",
   "language": "python",
   "name": "python3"
  },
  "language_info": {
   "codemirror_mode": {
    "name": "ipython",
    "version": 3
   },
   "file_extension": ".py",
   "mimetype": "text/x-python",
   "name": "python",
   "nbconvert_exporter": "python",
   "pygments_lexer": "ipython3",
   "version": "3.12.5"
  }
 },
 "nbformat": 4,
 "nbformat_minor": 2
}
