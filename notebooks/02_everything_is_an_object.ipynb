{
 "cells": [
  {
   "cell_type": "markdown",
   "metadata": {},
   "source": [
    "# 在 Python 中，一切都是对象\n",
    "\n",
    "对于 Python 而言，一切都可以认为是对象（`object`）。这句话可以怎么理解呢？我们可以先学习一个基本的操作：赋值（`=`）。在 Python 中，赋值的格式是：\n",
    "\n",
    "`变量名 = 值`\n",
    "\n",
    "其作用是将`=`左边的值赋给`=`右边的变量，例如："
   ]
  },
  {
   "cell_type": "code",
   "execution_count": null,
   "metadata": {},
   "outputs": [],
   "source": [
    "a = 1"
   ]
  },
  {
   "cell_type": "markdown",
   "metadata": {},
   "source": [
    "这就是一个赋值操作。它将整数`1`这个值（`Value`）赋给了名称为`a`的变量（`Variable`），使`a`成为了一个整型变量，其值为`1`。我们可以用函数`type`来确认变量`a`的类型（`Type`）："
   ]
  },
  {
   "cell_type": "code",
   "execution_count": null,
   "metadata": {},
   "outputs": [
    {
     "data": {
      "text/plain": [
       "int"
      ]
     },
     "metadata": {},
     "output_type": "display_data"
    }
   ],
   "source": [
    "type(a)"
   ]
  },
  {
   "cell_type": "markdown",
   "metadata": {},
   "source": [
    "类型`int`就是integer，是 Python 中表示整数的类型。如果需要表示有小数部分的数，我们就需要另外一种类型`float`。"
   ]
  },
  {
   "cell_type": "markdown",
   "metadata": {},
   "source": [
    "我们先前有说过，在 Python 中，一切皆为对象（`object`）。而只要是对象，我们就可以将它作为值，使用赋值操作。\n",
    "\n",
    "除了我们刚刚使用的整数`1`以外，其他的对象也都可以成为赋值操作中的值。"
   ]
  },
  {
   "cell_type": "markdown",
   "metadata": {},
   "source": [
    "我们现在再重新看一下 Hello World 程序："
   ]
  },
  {
   "cell_type": "code",
   "execution_count": 1,
   "metadata": {},
   "outputs": [
    {
     "name": "stdout",
     "output_type": "stream",
     "text": [
      "hello world\n"
     ]
    }
   ],
   "source": [
    "print(\"hello world\")"
   ]
  },
  {
   "cell_type": "markdown",
   "metadata": {},
   "source": [
    "在 Hello World 程序中，出现了两个对象，分别是字符串（`hello world`）和函数（`print`）。\n",
    "\n",
    "我们刚刚已经学会了赋值操作，那么就可以用这两个对象，实现一些有趣的事情。我们可以把字符串`hello world`赋值给一个变量："
   ]
  },
  {
   "cell_type": "code",
   "execution_count": null,
   "metadata": {},
   "outputs": [
    {
     "data": {
      "text/plain": [
       "str"
      ]
     },
     "metadata": {},
     "output_type": "display_data"
    }
   ],
   "source": [
    "first_str = \"hello world\"\n",
    "type(first_str)"
   ]
  },
  {
   "cell_type": "markdown",
   "metadata": {},
   "source": [
    "可以看到，我们将字符串赋值给了变量`first_str`，并且它的类型是 Python 中代表字符串的数据类型`str`。\n",
    "\n",
    "那么现在，Hello World 程序就可以写成："
   ]
  },
  {
   "cell_type": "code",
   "execution_count": null,
   "metadata": {},
   "outputs": [
    {
     "name": "stdout",
     "output_type": "stream",
     "text": [
      "hello world\n"
     ]
    }
   ],
   "source": [
    "print(first_str)"
   ]
  },
  {
   "cell_type": "markdown",
   "metadata": {},
   "source": [
    "可以看到，和我们之前的 Hello World 程序有一样的输出。\n",
    "\n",
    "那么我们试着把函数`print`赋值给别的变量，是否可行呢？"
   ]
  },
  {
   "cell_type": "code",
   "execution_count": null,
   "metadata": {},
   "outputs": [
    {
     "data": {
      "text/plain": [
       "builtin_function_or_method"
      ]
     },
     "metadata": {},
     "output_type": "display_data"
    }
   ],
   "source": [
    "first_func = print\n",
    "type(first_func)"
   ]
  },
  {
   "cell_type": "markdown",
   "metadata": {},
   "source": [
    "经过赋值操作后，我们发现变量`first_func`的类型变为了`builtin_function_or_method`，表示这是一个 Python 内置函数。\n",
    "\n",
    "我们现在用这个被赋值的变量来运行一下 Hello World 程序，看看能不能运行成功。"
   ]
  },
  {
   "cell_type": "code",
   "execution_count": null,
   "metadata": {},
   "outputs": [
    {
     "name": "stdout",
     "output_type": "stream",
     "text": [
      "hello world\n"
     ]
    }
   ],
   "source": [
    "first_func(\"hello world\")"
   ]
  },
  {
   "cell_type": "markdown",
   "metadata": {},
   "source": [
    "成功了！那我们试着将 Hello World 的两个部分都替换为变量："
   ]
  },
  {
   "cell_type": "code",
   "execution_count": null,
   "metadata": {},
   "outputs": [
    {
     "name": "stdout",
     "output_type": "stream",
     "text": [
      "hello world\n"
     ]
    }
   ],
   "source": [
    "first_func(first_str)"
   ]
  },
  {
   "cell_type": "markdown",
   "metadata": {},
   "source": [
    "这个程序同样成功打印了`hello world`！"
   ]
  },
  {
   "cell_type": "markdown",
   "metadata": {},
   "source": [
    "但是我们执行以下赋值操作，得到的结果可能跟我们想象的不一样："
   ]
  },
  {
   "cell_type": "code",
   "execution_count": null,
   "metadata": {},
   "outputs": [
    {
     "name": "stdout",
     "output_type": "stream",
     "text": [
      "hello world\n"
     ]
    }
   ],
   "source": [
    "first_code = first_func(first_str)"
   ]
  },
  {
   "cell_type": "markdown",
   "metadata": {},
   "source": [
    "在这里，我们执行了一个赋值语句，但输出结果却打印了`hello world`。这是为什么呢？\n",
    "\n",
    "跟前面类似，这里其实也发生了两步操作：\n",
    "\n",
    "1. 将`first_str`作为传入的参数提供给`first_func`函数，并执行（其实打印的方法在这一步就已经执行了，所以输出结果出现了`hello world`）；\n",
    "2. 将执行后的返回值赋值给`first_code`。"
   ]
  },
  {
   "cell_type": "markdown",
   "metadata": {},
   "source": [
    "那么`first_code`被赋了什么值呢？"
   ]
  },
  {
   "cell_type": "code",
   "execution_count": null,
   "metadata": {},
   "outputs": [
    {
     "name": "stdout",
     "output_type": "stream",
     "text": [
      "None\n"
     ]
    }
   ],
   "source": [
    "print(first_code)"
   ]
  },
  {
   "cell_type": "markdown",
   "metadata": {},
   "source": [
    "在 Python 中，`None`是一个特殊的值，代表着“无”和“空”。一般来说，一个函数没有返回值时，它就会返回`None`。而函数`print`就是一个没有返回值的函数，它的作用是打印输出。\n",
    "\n",
    "除了作为无返回值的默认输出以外，`None`还经常用来表示缺失值，例如一些暂时还不知道的值，比如："
   ]
  },
  {
   "cell_type": "code",
   "execution_count": 2,
   "metadata": {},
   "outputs": [],
   "source": [
    "unknown_variable = None"
   ]
  }
 ],
 "metadata": {
  "kernelspec": {
   "display_name": "general_env",
   "language": "python",
   "name": "python3"
  },
  "language_info": {
   "codemirror_mode": {
    "name": "ipython",
    "version": 3
   },
   "file_extension": ".py",
   "mimetype": "text/x-python",
   "name": "python",
   "nbconvert_exporter": "python",
   "pygments_lexer": "ipython3",
   "version": "3.12.5"
  }
 },
 "nbformat": 4,
 "nbformat_minor": 2
}
