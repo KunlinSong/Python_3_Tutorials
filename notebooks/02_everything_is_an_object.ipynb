{
 "cells": [
  {
   "cell_type": "markdown",
   "metadata": {},
   "source": [
    "# 在 Python 中，一切都是对象\n",
    "\n",
    "对于 Python 而言，一切都可以认为是对象（`object`）。这句话可以怎么理解？我们先学习 Python 的一个基本操作：赋值（`=`）。在 Python 中，赋值的格式是：\n",
    "\n",
    "`变量名 = 值`\n",
    "\n",
    "其含义是将`=`左边的值赋给`=`右边的变量，例如："
   ]
  },
  {
   "cell_type": "code",
   "execution_count": 6,
   "metadata": {},
   "outputs": [],
   "source": [
    "first_var = 1"
   ]
  },
  {
   "cell_type": "markdown",
   "metadata": {},
   "source": [
    "上面这一行代码就是一个赋值操作：将整数`1`这个值（`value`）赋给了名称为`first_var`的变量（`variable`）。\n",
    "\n",
    "经过这样一个赋值操作，这个变量`a`就有了一个类型。如果我们想要知道变量`a`的类型（`type`），我们可以使用函数`type`来查看："
   ]
  },
  {
   "cell_type": "code",
   "execution_count": 7,
   "metadata": {},
   "outputs": [
    {
     "data": {
      "text/plain": [
       "int"
      ]
     },
     "execution_count": 7,
     "metadata": {},
     "output_type": "execute_result"
    }
   ],
   "source": [
    "type(first_var)"
   ]
  },
  {
   "cell_type": "markdown",
   "metadata": {},
   "source": [
    "类型`int`就是integer，是 Python 中表示整数的类型。\n",
    "\n",
    "也就是说，我们在运行赋值操作`first_var = 1`后，使`first_var`成为了一个整型变量，其值为`1`。\n",
    "\n",
    "我们也可以试着为变量`first_var`赋其他的值："
   ]
  },
  {
   "cell_type": "code",
   "execution_count": 8,
   "metadata": {},
   "outputs": [],
   "source": [
    "first_var = 1.0"
   ]
  },
  {
   "cell_type": "markdown",
   "metadata": {},
   "source": [
    "我们再看一下这一次变量`first_var`的类型："
   ]
  },
  {
   "cell_type": "code",
   "execution_count": 9,
   "metadata": {},
   "outputs": [
    {
     "data": {
      "text/plain": [
       "float"
      ]
     },
     "execution_count": 9,
     "metadata": {},
     "output_type": "execute_result"
    }
   ],
   "source": [
    "type(first_var)"
   ]
  },
  {
   "cell_type": "markdown",
   "metadata": {},
   "source": [
    "这一次变量`first_var`的类型是`float`，这是浮点数类型，这种类型可以用来表示有小数部分的数。\n",
    "\n",
    "这个时候有些人可能会有疑问，两次赋值操作的变量名一致，为什么变量的类型不一样呢？\n",
    "\n",
    "实际上，在 Python 中，变量本身并没有类型，我们通常所说的变量类型，其实是变量的值所对应的类型。而对象`1`的类型是`int`，对象`1.0`的类型是`float`。"
   ]
  },
  {
   "cell_type": "code",
   "execution_count": 10,
   "metadata": {},
   "outputs": [
    {
     "data": {
      "text/plain": [
       "int"
      ]
     },
     "execution_count": 10,
     "metadata": {},
     "output_type": "execute_result"
    }
   ],
   "source": [
    "type(1)"
   ]
  },
  {
   "cell_type": "code",
   "execution_count": 11,
   "metadata": {},
   "outputs": [
    {
     "data": {
      "text/plain": [
       "float"
      ]
     },
     "execution_count": 11,
     "metadata": {},
     "output_type": "execute_result"
    }
   ],
   "source": [
    "type(1.0)"
   ]
  },
  {
   "cell_type": "markdown",
   "metadata": {},
   "source": [
    "不知道大家有没有注意到，我们先前说的是，我们可以用函数`type`来查看“变量”的类型。但是我们上面所查看的`1`和`1.0`，都不是变量，为什么也可以查看类型？其实，只要满足`type(object)`的格式，我们就可以查看这个对象（`object`）的类型。而在 Python 中，任何东西都是对象，`1`和`1.0`分别就是表示整数和浮点数的对象。\n",
    "\n",
    "前面我们使用了几次`type`函数，大家可能对函数都有了一些理解：函数（`function`）接收一个或一组传入参数，然后返回一个返回值。\n",
    "\n",
    "在 Python 中，函数的基本格式是：\n",
    "\n",
    "`func(*args, **kwargs)`\n",
    "\n",
    "其中，`args`是位置参数（arguments），`kwargs`是关键字参数（keyword arguments）。其中，使用位置参数需要根据函数定义时要求的位置顺序，依次给出对应的传入参数；使用关键字参数时，需要放在所有位置参数之后，使用`key=value`的格式，其中`key`是参数名，`value`是传入参数。具体有关函数的内容会在后续的教程中详细讲述，我们现在只需要大致了解：函数通过接收传入参数，在函数内部运行了一系列步骤，最后返回了一个函数值。\n",
    "\n",
    "在前面我们使用的`type`函数中，`type`对应`func`，括号中的参数对应`args`，并没有用到`kwargs`。在使用`type`函数，实现查看对象类型这个用法时，是不允许使用关键字参数的。"
   ]
  },
  {
   "cell_type": "code",
   "execution_count": 12,
   "metadata": {},
   "outputs": [
    {
     "ename": "TypeError",
     "evalue": "type() takes 1 or 3 arguments",
     "output_type": "error",
     "traceback": [
      "\u001b[0;31m---------------------------------------------------------------------------\u001b[0m",
      "\u001b[0;31mTypeError\u001b[0m                                 Traceback (most recent call last)",
      "Cell \u001b[0;32mIn[12], line 1\u001b[0m\n\u001b[0;32m----> 1\u001b[0m \u001b[38;5;28;43mtype\u001b[39;49m\u001b[43m(\u001b[49m\u001b[43mo\u001b[49m\u001b[38;5;241;43m=\u001b[39;49m\u001b[43mfirst_var\u001b[49m\u001b[43m)\u001b[49m\n",
      "\u001b[0;31mTypeError\u001b[0m: type() takes 1 or 3 arguments"
     ]
    }
   ],
   "source": [
    "type(o=first_var)"
   ]
  },
  {
   "cell_type": "markdown",
   "metadata": {},
   "source": [
    "另外，所有函数成功运行后都会产生一个返回值。大家可以自己尝试查看返回值的类型，比如："
   ]
  },
  {
   "cell_type": "code",
   "execution_count": 13,
   "metadata": {},
   "outputs": [
    {
     "data": {
      "text/plain": [
       "type"
      ]
     },
     "execution_count": 13,
     "metadata": {},
     "output_type": "execute_result"
    }
   ],
   "source": [
    "type(type(first_var))"
   ]
  },
  {
   "cell_type": "markdown",
   "metadata": {},
   "source": [
    "通过上面这个代码，我们可以看到`type(first_var)`的返回值的类型是`type`，这是一个表示类型的类型。"
   ]
  },
  {
   "cell_type": "markdown",
   "metadata": {},
   "source": [
    "我们先前有说过，在 Python 中，一切皆为对象（`object`）。而只要是对象，我们就可以将它作为值，使用赋值操作。"
   ]
  },
  {
   "cell_type": "markdown",
   "metadata": {},
   "source": [
    "我们现在重新回到 Hello World 程序："
   ]
  },
  {
   "cell_type": "code",
   "execution_count": 14,
   "metadata": {},
   "outputs": [
    {
     "name": "stdout",
     "output_type": "stream",
     "text": [
      "hello world\n"
     ]
    }
   ],
   "source": [
    "print(\"hello world\")"
   ]
  },
  {
   "cell_type": "markdown",
   "metadata": {},
   "source": [
    "在这个程序中，出现了两个对象，分别是字符串（`hello world`）和函数（`print`）。\n",
    "\n",
    "现在，我们可以把字符串`hello world`赋值给一个变量："
   ]
  },
  {
   "cell_type": "code",
   "execution_count": 15,
   "metadata": {},
   "outputs": [
    {
     "data": {
      "text/plain": [
       "str"
      ]
     },
     "execution_count": 15,
     "metadata": {},
     "output_type": "execute_result"
    }
   ],
   "source": [
    "first_str = \"hello world\"\n",
    "type(first_str)"
   ]
  },
  {
   "cell_type": "markdown",
   "metadata": {},
   "source": [
    "可以看到，我们将字符串`hello world`赋值给了变量`first_str`，使这个变量的类型变为了 Python 中代表字符串的数据类型`str`。\n",
    "\n",
    "所以，Hello World 程序现在也可以写成："
   ]
  },
  {
   "cell_type": "code",
   "execution_count": 16,
   "metadata": {},
   "outputs": [
    {
     "name": "stdout",
     "output_type": "stream",
     "text": [
      "hello world\n"
     ]
    }
   ],
   "source": [
    "print(first_str)"
   ]
  },
  {
   "cell_type": "markdown",
   "metadata": {},
   "source": [
    "可以看到，和我们之前的 Hello World 程序，这个程序也打印出了`hello world`。\n",
    "\n",
    "我们也可以试着把函数`print`赋值给别的变量："
   ]
  },
  {
   "cell_type": "code",
   "execution_count": 17,
   "metadata": {},
   "outputs": [
    {
     "data": {
      "text/plain": [
       "builtin_function_or_method"
      ]
     },
     "execution_count": 17,
     "metadata": {},
     "output_type": "execute_result"
    }
   ],
   "source": [
    "first_func = print\n",
    "type(first_func)"
   ]
  },
  {
   "cell_type": "markdown",
   "metadata": {},
   "source": [
    "经过赋值操作后，我们发现变量`first_func`的类型变为了`builtin_function_or_method`，表示`first_func`这个变量的值是一个 Python 内置函数。\n",
    "\n",
    "我们现在用这个被赋值的变量来运行一下 Hello World 程序，看看能不能运行成功。"
   ]
  },
  {
   "cell_type": "code",
   "execution_count": 18,
   "metadata": {},
   "outputs": [
    {
     "name": "stdout",
     "output_type": "stream",
     "text": [
      "hello world\n"
     ]
    }
   ],
   "source": [
    "first_func(\"hello world\")"
   ]
  },
  {
   "cell_type": "markdown",
   "metadata": {},
   "source": [
    "成功了！\n",
    "\n",
    "我们也可以试着将 Hello World 的两个部分都替换为变量："
   ]
  },
  {
   "cell_type": "code",
   "execution_count": 19,
   "metadata": {},
   "outputs": [
    {
     "name": "stdout",
     "output_type": "stream",
     "text": [
      "hello world\n"
     ]
    }
   ],
   "source": [
    "first_func(first_str)"
   ]
  },
  {
   "cell_type": "markdown",
   "metadata": {},
   "source": [
    "这个程序同样成功打印了`hello world`！"
   ]
  },
  {
   "cell_type": "markdown",
   "metadata": {},
   "source": [
    "但是我们执行以下赋值操作，得到的结果可能跟部分同学想象的结果不一样："
   ]
  },
  {
   "cell_type": "code",
   "execution_count": 20,
   "metadata": {},
   "outputs": [
    {
     "name": "stdout",
     "output_type": "stream",
     "text": [
      "hello world\n"
     ]
    }
   ],
   "source": [
    "first_return = first_func(first_str)"
   ]
  },
  {
   "cell_type": "markdown",
   "metadata": {},
   "source": [
    "在这里，我们执行了一个赋值语句，而不是像`first_func(first_str)`这样直接运行一个函数，但输出结果却打印了`hello world`。这是为什么呢？\n",
    "\n",
    "这里其实发生了两步操作：\n",
    "\n",
    "1. 将`first_str`作为传入参数提供给`first_func`函数，并执行（打印输出在这一步就已经执行了）；\n",
    "2. 将函数的返回值赋值给`first_code`。\n",
    "\n",
    "也就是说，赋值的步骤发生在函数执行之后。对于上面的这行代码，部分同学期望的可能是：将一个被赋予参数的函数赋值给一个变量。但实际上，这种写法是将函数的返回值赋值给一个变量。\n",
    "\n",
    "当然，如果想要实现将被赋予参数的函数赋值给一个变量，我们可以使用`functools`库中的`partial`函数，也可以使用`lambda`函数："
   ]
  },
  {
   "cell_type": "code",
   "execution_count": 21,
   "metadata": {},
   "outputs": [
    {
     "name": "stdout",
     "output_type": "stream",
     "text": [
      "hello world\n"
     ]
    }
   ],
   "source": [
    "from functools import partial\n",
    "\n",
    "partial_func = partial(first_func, first_str)\n",
    "partial_func()"
   ]
  },
  {
   "cell_type": "code",
   "execution_count": 22,
   "metadata": {},
   "outputs": [
    {
     "name": "stdout",
     "output_type": "stream",
     "text": [
      "hello world\n"
     ]
    }
   ],
   "source": [
    "lambda_func = lambda: first_func(first_str)\n",
    "lambda_func()"
   ]
  },
  {
   "cell_type": "markdown",
   "metadata": {},
   "source": [
    "大家需要注意一点，如果需要运行一个函数，一定需要在后面加上小括号（`()`），不论是否有传入参数。"
   ]
  },
  {
   "cell_type": "markdown",
   "metadata": {},
   "source": [
    "我们现在回到代码`first_return = first_func(first_str)`。现在我们知道，变量`first_return`得到的是运行`first_func(first_str)`后的返回值。我们现在来查看一下这个返回值是多少："
   ]
  },
  {
   "cell_type": "code",
   "execution_count": 23,
   "metadata": {},
   "outputs": [
    {
     "name": "stdout",
     "output_type": "stream",
     "text": [
      "None\n"
     ]
    }
   ],
   "source": [
    "print(first_return)"
   ]
  },
  {
   "cell_type": "markdown",
   "metadata": {},
   "source": [
    "在 Python 中，`None`是一个特殊的值，代表着“无”和“空”。\n",
    "\n",
    "函数的返回值与函数的功能有关。假如有一个名称为`add_integers`的函数，它的功能可能是将两个或者多个整数相加，并返回这些整数的和。那么这个返回值的类型就可能是任何表示整数的类型，比如 Python 中表示整数的类型`int`。\n",
    "\n",
    "Python 中要求，所有的函数都需要有返回值。而对于一些所实现的功能并不需要返回任何内容的函数，比如`print`的主要作用就是打印输出，就会用`None`作为返回值。\n",
    "\n",
    "除了作为不需要返回值的函数的返回值以外，`None`还经常用来表示缺失值，例如一些暂时还不知道的值，比如："
   ]
  },
  {
   "cell_type": "code",
   "execution_count": 24,
   "metadata": {},
   "outputs": [
    {
     "data": {
      "text/plain": [
       "NoneType"
      ]
     },
     "execution_count": 24,
     "metadata": {},
     "output_type": "execute_result"
    }
   ],
   "source": [
    "unknown_variable = None\n",
    "type(unknown_variable)"
   ]
  },
  {
   "cell_type": "markdown",
   "metadata": {},
   "source": [
    "这时候变量`unknown_variable`的类型是`NoneType`。当我们后续知道要给它赋予什么值之后，我们就可以直接通过赋值操作符`=`来给它赋值："
   ]
  },
  {
   "cell_type": "code",
   "execution_count": 25,
   "metadata": {},
   "outputs": [
    {
     "data": {
      "text/plain": [
       "int"
      ]
     },
     "execution_count": 25,
     "metadata": {},
     "output_type": "execute_result"
    }
   ],
   "source": [
    "unknown_variable = 1\n",
    "type(unknown_variable)"
   ]
  },
  {
   "cell_type": "markdown",
   "metadata": {},
   "source": [
    "经过上面的这个赋值操作，它的类型会自动变为其值（`1`）对应的类型`int`。也就是说，在 Python 中，变量的类型在经过赋值操作后，会自动变为其值对应的类型。这是 Python 语言的一个特性。\n",
    "\n",
    "Python 是一种动态类型语言，在运行过程中，变量的数据类型是可以改变的。而对于其它一些语言，比如 C，C++，C#，Java等，变量的数据类型是固定的，需要声明所有变量的数据类型。当然，出于可读性的考虑，我们也可以在 Python 中显式地声明变量的数据类型。"
   ]
  },
  {
   "cell_type": "code",
   "execution_count": 26,
   "metadata": {},
   "outputs": [],
   "source": [
    "unknown_variable: int = 1"
   ]
  },
  {
   "cell_type": "markdown",
   "metadata": {},
   "source": [
    "我们只需要在赋值操作的时候，在变量名和赋值号`=`之间加上冒号`:`，并在冒号后写上这个变量被赋予的值的类型，就可以完成声明变量类型的操作。"
   ]
  }
 ],
 "metadata": {
  "kernelspec": {
   "display_name": "general_env",
   "language": "python",
   "name": "python3"
  },
  "language_info": {
   "codemirror_mode": {
    "name": "ipython",
    "version": 3
   },
   "file_extension": ".py",
   "mimetype": "text/x-python",
   "name": "python",
   "nbconvert_exporter": "python",
   "pygments_lexer": "ipython3",
   "version": "3.12.5"
  }
 },
 "nbformat": 4,
 "nbformat_minor": 2
}
